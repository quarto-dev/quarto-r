{
  "cells": [
    {
      "cell_type": "raw",
      "metadata": {},
      "source": [
        "---\n",
        "title: \"Untitled\"\n",
        "format: html\n",
        "---"
      ]
    },
    {
      "cell_type": "markdown",
      "metadata": {},
      "source": [
        "## Quarto\n",
        "\n",
        "Quarto enables you to weave together content and executable code into a finished document. To learn more about Quarto see <https://quarto.org>.\n",
        "\n",
        "## Running Code\n",
        "\n",
        "When you click the **Render** button a document will be generated that includes both content and the output of embedded code. You can embed code like this:\n",
        "\n",
        "```{r}\n",
        "1 + 1\n",
        "```\n",
        "\n",
        "You can add options to executable code like this\n",
        "\n",
        "```{r}\n",
        "#| echo: false\n",
        "2 * 2\n",
        "```\n",
        "\n",
        "The `echo: false` option disables the printing of code (only output is displayed)."
      ]
    }
  ],
  "metadata": {
    "kernelspec": {
      "name": "python3",
      "language": "python",
      "display_name": "Python 3 (ipykernel)"
    }
  },
  "nbformat": 4,
  "nbformat_minor": 4
}